{
 "cells": [
  {
   "cell_type": "markdown",
   "metadata": {},
   "source": [
    "<span style=\"font-size:100%\">\n",
    "\n",
    "수업은 모두 열심히 들으셨나요?\n",
    "\n",
    "간혹 강의에서 언급되지 않은 내용이 문제로 나올 수 있습니다.<br>\n",
    "그럴땐 강의 내용 외 문제는 구글링을 통해 해결해주세요<br></span>\n",
    "<span style=\"font-size:80%\">\n",
    "(구글링 또한 개발자가 갖쳐야할 역량 중에 하나랍니다 😊)\n",
    "</span>\n",
    "\n",
    "---"
   ]
  },
  {
   "cell_type": "markdown",
   "metadata": {},
   "source": [
    "<span style=\"font-size:80%\">[문제1]<br><br></span>\n",
    "```주로 작성 중인 코드의 끝을 알리는 기호로 사용되며 파이썬에서 한 줄에 작성된 서로 다른 코드를 구분 지을 때 사용할 수 있는 기호를 골라주세요```\n",
    "\n",
    "1. ' , ' (쉼표)\n",
    "2. ' + ' (더하기 기호)\n",
    "3. ' ; ' (세미콜론)\n",
    "4. ' / ' (슬래시)"
   ]
  },
  {
   "cell_type": "markdown",
   "metadata": {},
   "source": [
    "<span style=\"color:red\">답변</span> : "
   ]
  },
  {
   "cell_type": "markdown",
   "metadata": {},
   "source": [
    "3. ';' (세미콜론)"
   ]
  },
  {
   "cell_type": "markdown",
   "metadata": {},
   "source": [
    "----"
   ]
  },
  {
   "cell_type": "markdown",
   "metadata": {},
   "source": [
    "<span style=\"font-size:80%\">[문제2]<br><br></span>\n",
    "```Python의 PEP 8은 무엇인지 설명하고 PEP 8의 핵심적인 규칙을 1개 이상을 설명해주세요```"
   ]
  },
  {
   "cell_type": "markdown",
   "metadata": {},
   "source": [
    "<span style=\"color:red\">답변</span>"
   ]
  },
  {
   "cell_type": "markdown",
   "metadata": {},
   "source": [
    "PEP 8은 Python 코드 작성 시 일관성과 가독성을 유지하기 위한 스타일 가이드 입니다.\n",
    "\n",
    "핵심 규칙\n",
    "1. 코드 레이아웃\n",
    "    - 들여쓰기 : 공백 4칸을 사용하며, 탭은 피한다.\n",
    "    - 최대 줄 길이 : 79자로 제한 (Docstring이나 주석은 72자)\n",
    "2. 공백 사용\n",
    "    - 연산자 주변에는 한 칸의 공백 사용\n",
    "    - 콤마, 콜론, 세미콜론 뒤에는 공백 추가\n",
    "3. 이름 규칙\n",
    "    - 함수와 변수 : 소문자로 작성,필요하면 밑줄(_) 사용\n",
    "    - 클래스 이름 : CamelCase 스타일 사용\n",
    "    - 상수 이름 : 모두 대문자로 작성, 밑줄로 단어 구분\n",
    "4. 임포트 규칙\n",
    "    - 한 줄에 하나의 모듈만 임포트\n",
    "    - 순서는 표준 라이브러리 > 서드파티 모듈 > 로컬 모듈 순으로 작성\n",
    "5. 함수와 클래스\n",
    "    - 함수와 클래스 사이에는 두 줄의 빈 줄을 추가\n",
    "    - 메서드 정의 내부는 빈 줄 없이 작성\n",
    "6. 주석\n",
    "    - 코드와 관련된 내용을 간결하게 작성하며, 줄바꿈된 코드 위에 작성"
   ]
  },
  {
   "cell_type": "markdown",
   "metadata": {},
   "source": [
    "----"
   ]
  },
  {
   "cell_type": "markdown",
   "metadata": {},
   "source": [
    "<span style=\"font-size:80%\">[문제3]<br><br></span>\n",
    "```Python에서 \"#\"이 의마하는 것은 무엇인지 설명해주세요```"
   ]
  },
  {
   "cell_type": "markdown",
   "metadata": {},
   "source": [
    "<span style=\"color:red\">답변</span>"
   ]
  },
  {
   "cell_type": "markdown",
   "metadata": {},
   "source": [
    "'#' 기호는 주석을 나타냅니다. 코드 내에서 설명을 추가하거나, 일시적으로 실행되지 않을 코드를 무효화할 때 사용합니다."
   ]
  },
  {
   "cell_type": "markdown",
   "metadata": {},
   "source": [
    "----"
   ]
  },
  {
   "cell_type": "markdown",
   "metadata": {},
   "source": [
    "<span style=\"font-size:80%\">[문제4]<br><br></span>\n",
    "```Python의 들여쓰기 장점과 기능에 대해 설명해주세요```"
   ]
  },
  {
   "cell_type": "markdown",
   "metadata": {},
   "source": [
    "<span style=\"color:red\">답변</span>"
   ]
  },
  {
   "cell_type": "markdown",
   "metadata": {},
   "source": [
    "들여쓰기의 기능 - 코드 블록 구분 : 조건문, 반복문, 함수, 클래스 등에서 코드 블록의 시작과 끝을 명확히 표시\n",
    "            - 구문 오류 방지 : 들여쓰기가 일관되지 않으면 이터프리터는 즉시 'IndentationError'를 발생시켜 잘못된 구문을 탐지함\n",
    "장점 - 코드 가독성 향상\n",
    "    - 에러 감소\n",
    "    - 통일된 코드 스타일"
   ]
  },
  {
   "cell_type": "markdown",
   "metadata": {},
   "source": [
    "----"
   ]
  },
  {
   "cell_type": "markdown",
   "metadata": {},
   "source": [
    "<span style=\"font-size:80%\">[문제5]<br><br></span>\n",
    "```print( )문의 기능 및 특징에 대해 설명해주세요```"
   ]
  },
  {
   "cell_type": "markdown",
   "metadata": {},
   "source": [
    "<span style=\"color:red\">답변</span>"
   ]
  },
  {
   "cell_type": "code",
   "execution_count": null,
   "metadata": {
    "vscode": {
     "languageId": "plaintext"
    }
   },
   "outputs": [],
   "source": [
    "기능 - 괄호 안에 지정된 값을 화면에 출력\n",
    "\n",
    "특징 - 자동 줄 바꿈\n",
    "    - 구분자 지정 : 기본적으로는 공백으로 표현, sep 인자를 통해 구분자 변경\n",
    "    - 가변 인수 : 여러 인수를 받을 수 있어 한 번에 여러 값 출력 가능\n",
    "    - 문자열 포메팅 지원 : f-string, str.format() 또는 % 연산자를 통해 출력 포메팅을 지원"
   ]
  },
  {
   "cell_type": "markdown",
   "metadata": {},
   "source": []
  }
 ],
 "metadata": {
  "language_info": {
   "name": "python"
  }
 },
 "nbformat": 4,
 "nbformat_minor": 2
}
