{
 "cells": [
  {
   "cell_type": "markdown",
   "metadata": {},
   "source": [
    "<span style=\"font-size:100%\">\n",
    "\n",
    "수업은 모두 열심히 들으셨나요?\n",
    "\n",
    "간혹 강의에서 언급되지 않은 내용이 문제로 나올 수 있습니다.<br>\n",
    "그럴땐 강의 내용 외 문제는 구글링을 통해 해결해주세요<br></span>\n",
    "<span style=\"font-size:80%\">\n",
    "(구글링 또한 개발자가 갖쳐야할 역량 중에 하나랍니다 😊)\n",
    "</span>\n",
    "\n",
    "---"
   ]
  },
  {
   "cell_type": "markdown",
   "metadata": {},
   "source": [
    "<span style=\"font-size:80%\">[문제1]<br><br></span>\n",
    "```인터프리트 방식에 대해 설명하고 2개 이상의 장점을 설명해주세요```"
   ]
  },
  {
   "cell_type": "markdown",
   "metadata": {},
   "source": [
    "<span style=\"color:red\">답변</span>"
   ]
  },
  {
   "cell_type": "markdown",
   "metadata": {},
   "source": [
    "인터프리트 방식 - 프로그램 코드를 한 줄씩 읽어서 바로 실행\n",
    "            - 소스 코드를 저장하지 않고 실행 중에 인터프리터가 이를 분석하고 수행함\n",
    "장점 - 즉각적인 실행\n",
    "    - 플랫폼 독립성\n",
    "    - 유연성 및 상호작용성"
   ]
  },
  {
   "cell_type": "markdown",
   "metadata": {},
   "source": [
    "---"
   ]
  },
  {
   "cell_type": "markdown",
   "metadata": {},
   "source": [
    "<span style=\"font-size:80%\">[문제2]<br><br></span>\n",
    "```동적 타입 방식의 장점과 단점을 간략히 설명해주세요```"
   ]
  },
  {
   "cell_type": "markdown",
   "metadata": {},
   "source": [
    "<span style=\"color:red\">답변</span>"
   ]
  },
  {
   "cell_type": "markdown",
   "metadata": {},
   "source": [
    "동적 타입 방식 (Dynamic Typing) - 변수의 데이터 타입을 명시적으로 선언하지 않고, 실행 중 타입이 결정되는 방식\n",
    "\n",
    "장점 - 코드 간결성\n",
    "    - 유연성\n",
    "    - 빠른 개발 속도\n",
    "단점 - 런타임 에러 가능성\n",
    "    - 디버깅 및 유지보수 어려움\n",
    "    - 퍼포먼스 저하 가능성"
   ]
  },
  {
   "cell_type": "markdown",
   "metadata": {},
   "source": [
    "---"
   ]
  },
  {
   "cell_type": "markdown",
   "metadata": {},
   "source": [
    "<span style=\"font-size:80%\">[문제3]<br><br></span>\n",
    "```Python으로 정적타입 방식의 코드를 작성할 수 있는 방법을 구글링을 통해 검색 후 설명해주세요```"
   ]
  },
  {
   "cell_type": "markdown",
   "metadata": {},
   "source": [
    "<span style=\"color:red\">답변</span>"
   ]
  },
  {
   "cell_type": "markdown",
   "metadata": {},
   "source": [
    "1. 타입 힌트 사용\n",
    "    - python 3.5 이상 - typing 모듈을 사용해 변수, 함수의 매개변수, 반환 값 등에 타입을 명시할 수 있음\n",
    "    - python 3.9 이상 - typing 없이도 간단한 문법으로 타입을 지정할 수 있음\n",
    "2. 타입 검사도구 활용\n",
    "    - Mypy와 같은 정적 타입 검사 도구를 사용해 코드 타입의 일관성 확인\n",
    "3. 제네릭과 고급 타입 활용\n",
    "    - 'Generic', 'Union', 'Literal' 등을 이용해 보다 정밀한 타입 정의도 가능\n"
   ]
  },
  {
   "cell_type": "markdown",
   "metadata": {},
   "source": [
    "---"
   ]
  },
  {
   "cell_type": "markdown",
   "metadata": {},
   "source": [
    "<span style=\"font-size:80%\">[문제4]<br><br></span>\n",
    "```프로세스와 스레드의 차이점을 설명해주세요```"
   ]
  },
  {
   "cell_type": "markdown",
   "metadata": {},
   "source": [
    "<span style=\"color:red\">답변</span>"
   ]
  },
  {
   "cell_type": "markdown",
   "metadata": {},
   "source": [
    "프로세스 - 운영 체제에서 실행 중인 하나의 프로그램\n",
    "스레드 - 프로세스 내에서 실행되는 작은 작업 단위 # 프로세스의 자원을 공유하여 실행됨"
   ]
  },
  {
   "cell_type": "markdown",
   "metadata": {},
   "source": [
    "---"
   ]
  },
  {
   "cell_type": "markdown",
   "metadata": {},
   "source": [
    "<span style=\"font-size:80%\">[문제5]<br><br></span>\n",
    "```Python 2버전대와 3버전대의 차이를 성명해주세요```"
   ]
  },
  {
   "cell_type": "markdown",
   "metadata": {},
   "source": [
    "<span style=\"color:red\">답변</span>"
   ]
  },
  {
   "cell_type": "markdown",
   "metadata": {},
   "source": [
    "1. 문법 및 출력 함수\n",
    "    - pyton2 : print \"\"\n",
    "    - pyton3 : print(\"\")\n",
    "2. 문자열 처리\n",
    "    - pyton2 : 바이트 문자열로 저장, 유니코드는 별도 처리\n",
    "    - pyton3 : 유니코드 문자열로 저장, 바이트 데이터는 별도 처리\n",
    "3. 나눗셈 연산자\n",
    "    - pyton2 : / 연산자는 정수 반환 // 연산자는 실수 반환\n",
    "    - pyton3 : / 연산자는 실수 반환 // 연산자는 정수 반환\n",
    "4. input 함수\n",
    "    - pyton2 : input과 raw_input이 나뉘어져 있음 #input은 값, raw_input은 문자열로 반환\n",
    "    - pyton3 : input만 존재, 항상 문자열 반환\n",
    "5. 정수 표현\n",
    "    - pyton2 : int와 long 타입 존재 #큰 숫자는 L 접미사 사용\n",
    "    - pyton3 : 모든 정수는 int 타입으로 처리되며 크기 제한 없음"
   ]
  },
  {
   "cell_type": "markdown",
   "metadata": {},
   "source": [
    "---"
   ]
  },
  {
   "cell_type": "markdown",
   "metadata": {},
   "source": [
    "<span style=\"font-size:80%\">[문제6]<br><br></span>\n",
    "```Python에서 메모리 관리는 어떻게 이루어지는지 설명해주세요```"
   ]
  },
  {
   "cell_type": "markdown",
   "metadata": {},
   "source": [
    "<span style=\"color:red\">답변</span>"
   ]
  },
  {
   "cell_type": "markdown",
   "metadata": {},
   "source": [
    "1. 레퍼런스 카운팅\n",
    "    - Python의 객체는 각각 참조 횟수를 추적합니다. 객체에 대한 참조가 추가되면 카운트가 증가하고 참조가 해제되면 카운트가 감소합니다.\n",
    "2.가비지 컬렉션 (Garbage Collection)\n",
    "    - Python의 레퍼런스 카운팅만으로는 순환 참조 문제를 해결할 수 없으므로 Python은 가비지 컬렉터(GC)를 사용\n",
    "3. 힙 메모리와 객체 풀 (Object Pool)\n",
    "    - Python의 객체는 힙(heap) 메모리에서 관리되며, CPython 구현에서는 작은 크기의 객체에 대해 객체 풀을 사용\n",
    "4. 메모리 최적화\n",
    "    - 인터프리터 레벨 최적화 : 자주 사용되는 객체를 캐싱하거나, 내부적으로 데이터 구조를 최적화\n",
    "    - 사용자 최적화 : 제너레이터, 데이터 구조 선택 등을 통해 메모리 사용을 줄이는 방법"
   ]
  }
 ],
 "metadata": {
  "language_info": {
   "name": "python"
  }
 },
 "nbformat": 4,
 "nbformat_minor": 2
}
